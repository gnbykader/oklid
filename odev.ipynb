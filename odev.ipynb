{
  "metadata": {
    "kernelspec": {
      "name": "python",
      "display_name": "Python (Pyodide)",
      "language": "python"
    },
    "language_info": {
      "codemirror_mode": {
        "name": "python",
        "version": 3
      },
      "file_extension": ".py",
      "mimetype": "text/x-python",
      "name": "python",
      "nbconvert_exporter": "python",
      "pygments_lexer": "ipython3",
      "version": "3.8"
    }
  },
  "nbformat_minor": 5,
  "nbformat": 4,
  "cells": [
    {
      "id": "c9bb3fc4-36e6-41f5-accd-38531983cf86",
      "cell_type": "code",
      "source": "points = [(1,13),(3,5),(5,13),(8,24),(4,9),(32,21)]\nprint(points)",
      "metadata": {
        "trusted": true
      },
      "outputs": [
        {
          "name": "stdout",
          "text": "[(1, 13), (3, 5), (5, 13), (8, 24), (4, 9), (32, 21)]\n",
          "output_type": "stream"
        }
      ],
      "execution_count": 11
    },
    {
      "id": "f3da958c-a8df-4940-82ee-842726db83b2",
      "cell_type": "code",
      "source": "import math\ndef euclideanDistance():\n    x1,y1 = a\n    x2,y2 = b\n    result = math.sqrt(((x2-x1)**2)+((y2-y1)**2))\n    return result",
      "metadata": {
        "trusted": true
      },
      "outputs": [],
      "execution_count": 12
    },
    {
      "id": "42f440f7-8a34-47b7-8e46-765262ce1e77",
      "cell_type": "code",
      "source": "distances = []\nfor i in range(len(points)):\n    for j in range(i + 1, len(points)):\n        a = points[i] \n        b = points[j]\n        result = euclideanDistance()\n        distances.append(result)\nprint(distances) \nprint(min(distances))",
      "metadata": {
        "trusted": true
      },
      "outputs": [
        {
          "name": "stdout",
          "text": "[8.246211251235321, 4.0, 13.038404810405298, 5.0, 32.01562118716424, 8.246211251235321, 19.6468827043885, 4.123105625617661, 33.12099032335839, 11.40175425099138, 4.123105625617661, 28.160255680657446, 15.524174696260024, 24.186773244895647, 30.463092423455635]\n4.0\n",
          "output_type": "stream"
        }
      ],
      "execution_count": 13
    },
    {
      "id": "8c3d7a51-cd70-4a69-9630-a6022d422ef3",
      "cell_type": "code",
      "source": "",
      "metadata": {
        "trusted": true
      },
      "outputs": [],
      "execution_count": null
    }
  ]
}